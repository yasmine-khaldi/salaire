{
 "cells": [
  {
   "cell_type": "code",
   "execution_count": 2,
   "id": "28221cd1",
   "metadata": {
    "ExecuteTime": {
     "end_time": "2024-05-05T09:52:04.928326400Z",
     "start_time": "2024-05-05T09:51:55.250601500Z"
    }
   },
   "outputs": [],
   "source": [
    "#importer les librairies\n",
    "import numpy as np\n",
    "import  pandas as pd\n",
    "from sklearn.model_selection import train_test_split\n",
    "from sklearn.linear_model import LinearRegression"
   ]
  },
  {
   "cell_type": "code",
   "execution_count": 3,
   "id": "a6bc8402",
   "metadata": {
    "ExecuteTime": {
     "end_time": "2024-05-05T09:52:05.038245400Z",
     "start_time": "2024-05-05T09:52:04.929890300Z"
    }
   },
   "outputs": [],
   "source": [
    "Data=pd.read_csv('jobs_in_data.csv')\n",
    "Data.duplicated().sum()\n",
    "Data.drop_duplicates(inplace=True)\n"
   ]
  },
  {
   "cell_type": "code",
   "execution_count": 4,
   "id": "b98317db",
   "metadata": {
    "ExecuteTime": {
     "end_time": "2024-05-05T09:52:05.057228600Z",
     "start_time": "2024-05-05T09:52:05.039246500Z"
    }
   },
   "outputs": [],
   "source": [
    "X=Data.drop(['salary_in_usd'],axis=1)\n",
    "Y=Data['salary_in_usd']"
   ]
  },
  {
   "cell_type": "code",
   "execution_count": 5,
   "id": "d1cd1f50",
   "metadata": {
    "ExecuteTime": {
     "end_time": "2024-05-05T09:52:05.142905300Z",
     "start_time": "2024-05-05T09:52:05.065261400Z"
    }
   },
   "outputs": [
    {
     "data": {
      "text/plain": "      work_year                 job_title                    job_category  \\\n0          2023      Data DevOps Engineer                Data Engineering   \n1          2023            Data Architect  Data Architecture and Modeling   \n2          2023            Data Architect  Data Architecture and Modeling   \n3          2023            Data Scientist       Data Science and Research   \n4          2023            Data Scientist       Data Science and Research   \n...         ...                       ...                             ...   \n9350       2021           Data Specialist    Data Management and Strategy   \n9351       2020            Data Scientist       Data Science and Research   \n9352       2021  Principal Data Scientist       Data Science and Research   \n9353       2020            Data Scientist       Data Science and Research   \n9354       2020     Business Data Analyst                   Data Analysis   \n\n     salary_currency  salary  salary_in_usd employee_residence  \\\n0                EUR   88000          95012            Germany   \n1                USD  186000         186000      United States   \n2                USD   81800          81800      United States   \n3                USD  212000         212000      United States   \n4                USD   93300          93300      United States   \n...              ...     ...            ...                ...   \n9350             USD  165000         165000      United States   \n9351             USD  412000         412000      United States   \n9352             USD  151000         151000      United States   \n9353             USD  105000         105000      United States   \n9354             USD  100000         100000      United States   \n\n     experience_level employment_type work_setting company_location  \\\n0           Mid-level       Full-time       Hybrid          Germany   \n1              Senior       Full-time    In-person    United States   \n2              Senior       Full-time    In-person    United States   \n3              Senior       Full-time    In-person    United States   \n4              Senior       Full-time    In-person    United States   \n...               ...             ...          ...              ...   \n9350           Senior       Full-time       Remote    United States   \n9351           Senior       Full-time       Remote    United States   \n9352        Mid-level       Full-time       Remote    United States   \n9353      Entry-level       Full-time       Remote    United States   \n9354      Entry-level        Contract       Remote    United States   \n\n     company_size  \n0               L  \n1               M  \n2               M  \n3               M  \n4               M  \n...           ...  \n9350            L  \n9351            L  \n9352            L  \n9353            S  \n9354            L  \n\n[5341 rows x 12 columns]",
      "text/html": "<div>\n<style scoped>\n    .dataframe tbody tr th:only-of-type {\n        vertical-align: middle;\n    }\n\n    .dataframe tbody tr th {\n        vertical-align: top;\n    }\n\n    .dataframe thead th {\n        text-align: right;\n    }\n</style>\n<table border=\"1\" class=\"dataframe\">\n  <thead>\n    <tr style=\"text-align: right;\">\n      <th></th>\n      <th>work_year</th>\n      <th>job_title</th>\n      <th>job_category</th>\n      <th>salary_currency</th>\n      <th>salary</th>\n      <th>salary_in_usd</th>\n      <th>employee_residence</th>\n      <th>experience_level</th>\n      <th>employment_type</th>\n      <th>work_setting</th>\n      <th>company_location</th>\n      <th>company_size</th>\n    </tr>\n  </thead>\n  <tbody>\n    <tr>\n      <th>0</th>\n      <td>2023</td>\n      <td>Data DevOps Engineer</td>\n      <td>Data Engineering</td>\n      <td>EUR</td>\n      <td>88000</td>\n      <td>95012</td>\n      <td>Germany</td>\n      <td>Mid-level</td>\n      <td>Full-time</td>\n      <td>Hybrid</td>\n      <td>Germany</td>\n      <td>L</td>\n    </tr>\n    <tr>\n      <th>1</th>\n      <td>2023</td>\n      <td>Data Architect</td>\n      <td>Data Architecture and Modeling</td>\n      <td>USD</td>\n      <td>186000</td>\n      <td>186000</td>\n      <td>United States</td>\n      <td>Senior</td>\n      <td>Full-time</td>\n      <td>In-person</td>\n      <td>United States</td>\n      <td>M</td>\n    </tr>\n    <tr>\n      <th>2</th>\n      <td>2023</td>\n      <td>Data Architect</td>\n      <td>Data Architecture and Modeling</td>\n      <td>USD</td>\n      <td>81800</td>\n      <td>81800</td>\n      <td>United States</td>\n      <td>Senior</td>\n      <td>Full-time</td>\n      <td>In-person</td>\n      <td>United States</td>\n      <td>M</td>\n    </tr>\n    <tr>\n      <th>3</th>\n      <td>2023</td>\n      <td>Data Scientist</td>\n      <td>Data Science and Research</td>\n      <td>USD</td>\n      <td>212000</td>\n      <td>212000</td>\n      <td>United States</td>\n      <td>Senior</td>\n      <td>Full-time</td>\n      <td>In-person</td>\n      <td>United States</td>\n      <td>M</td>\n    </tr>\n    <tr>\n      <th>4</th>\n      <td>2023</td>\n      <td>Data Scientist</td>\n      <td>Data Science and Research</td>\n      <td>USD</td>\n      <td>93300</td>\n      <td>93300</td>\n      <td>United States</td>\n      <td>Senior</td>\n      <td>Full-time</td>\n      <td>In-person</td>\n      <td>United States</td>\n      <td>M</td>\n    </tr>\n    <tr>\n      <th>...</th>\n      <td>...</td>\n      <td>...</td>\n      <td>...</td>\n      <td>...</td>\n      <td>...</td>\n      <td>...</td>\n      <td>...</td>\n      <td>...</td>\n      <td>...</td>\n      <td>...</td>\n      <td>...</td>\n      <td>...</td>\n    </tr>\n    <tr>\n      <th>9350</th>\n      <td>2021</td>\n      <td>Data Specialist</td>\n      <td>Data Management and Strategy</td>\n      <td>USD</td>\n      <td>165000</td>\n      <td>165000</td>\n      <td>United States</td>\n      <td>Senior</td>\n      <td>Full-time</td>\n      <td>Remote</td>\n      <td>United States</td>\n      <td>L</td>\n    </tr>\n    <tr>\n      <th>9351</th>\n      <td>2020</td>\n      <td>Data Scientist</td>\n      <td>Data Science and Research</td>\n      <td>USD</td>\n      <td>412000</td>\n      <td>412000</td>\n      <td>United States</td>\n      <td>Senior</td>\n      <td>Full-time</td>\n      <td>Remote</td>\n      <td>United States</td>\n      <td>L</td>\n    </tr>\n    <tr>\n      <th>9352</th>\n      <td>2021</td>\n      <td>Principal Data Scientist</td>\n      <td>Data Science and Research</td>\n      <td>USD</td>\n      <td>151000</td>\n      <td>151000</td>\n      <td>United States</td>\n      <td>Mid-level</td>\n      <td>Full-time</td>\n      <td>Remote</td>\n      <td>United States</td>\n      <td>L</td>\n    </tr>\n    <tr>\n      <th>9353</th>\n      <td>2020</td>\n      <td>Data Scientist</td>\n      <td>Data Science and Research</td>\n      <td>USD</td>\n      <td>105000</td>\n      <td>105000</td>\n      <td>United States</td>\n      <td>Entry-level</td>\n      <td>Full-time</td>\n      <td>Remote</td>\n      <td>United States</td>\n      <td>S</td>\n    </tr>\n    <tr>\n      <th>9354</th>\n      <td>2020</td>\n      <td>Business Data Analyst</td>\n      <td>Data Analysis</td>\n      <td>USD</td>\n      <td>100000</td>\n      <td>100000</td>\n      <td>United States</td>\n      <td>Entry-level</td>\n      <td>Contract</td>\n      <td>Remote</td>\n      <td>United States</td>\n      <td>L</td>\n    </tr>\n  </tbody>\n</table>\n<p>5341 rows × 12 columns</p>\n</div>"
     },
     "execution_count": 5,
     "metadata": {},
     "output_type": "execute_result"
    }
   ],
   "source": [
    "Data\n"
   ]
  },
  {
   "cell_type": "code",
   "execution_count": 6,
   "id": "2cc21e11",
   "metadata": {
    "ExecuteTime": {
     "end_time": "2024-05-05T09:52:05.167159400Z",
     "start_time": "2024-05-05T09:52:05.104051700Z"
    }
   },
   "outputs": [
    {
     "data": {
      "text/plain": "      work_year                 job_title                    job_category  \\\n0          2023      Data DevOps Engineer                Data Engineering   \n1          2023            Data Architect  Data Architecture and Modeling   \n2          2023            Data Architect  Data Architecture and Modeling   \n3          2023            Data Scientist       Data Science and Research   \n4          2023            Data Scientist       Data Science and Research   \n...         ...                       ...                             ...   \n9350       2021           Data Specialist    Data Management and Strategy   \n9351       2020            Data Scientist       Data Science and Research   \n9352       2021  Principal Data Scientist       Data Science and Research   \n9353       2020            Data Scientist       Data Science and Research   \n9354       2020     Business Data Analyst                   Data Analysis   \n\n     salary_currency  salary  salary_in_usd employee_residence  \\\n0                EUR   88000          95012            Germany   \n1                USD  186000         186000      United States   \n2                USD   81800          81800      United States   \n3                USD  212000         212000      United States   \n4                USD   93300          93300      United States   \n...              ...     ...            ...                ...   \n9350             USD  165000         165000      United States   \n9351             USD  412000         412000      United States   \n9352             USD  151000         151000      United States   \n9353             USD  105000         105000      United States   \n9354             USD  100000         100000      United States   \n\n     experience_level employment_type work_setting company_location  \\\n0           Mid-level       Full-time       Hybrid          Germany   \n1              Senior       Full-time    In-person    United States   \n2              Senior       Full-time    In-person    United States   \n3              Senior       Full-time    In-person    United States   \n4              Senior       Full-time    In-person    United States   \n...               ...             ...          ...              ...   \n9350           Senior       Full-time       Remote    United States   \n9351           Senior       Full-time       Remote    United States   \n9352        Mid-level       Full-time       Remote    United States   \n9353      Entry-level       Full-time       Remote    United States   \n9354      Entry-level        Contract       Remote    United States   \n\n     company_size  \n0               L  \n1               M  \n2               M  \n3               M  \n4               M  \n...           ...  \n9350            L  \n9351            L  \n9352            L  \n9353            S  \n9354            L  \n\n[5341 rows x 12 columns]",
      "text/html": "<div>\n<style scoped>\n    .dataframe tbody tr th:only-of-type {\n        vertical-align: middle;\n    }\n\n    .dataframe tbody tr th {\n        vertical-align: top;\n    }\n\n    .dataframe thead th {\n        text-align: right;\n    }\n</style>\n<table border=\"1\" class=\"dataframe\">\n  <thead>\n    <tr style=\"text-align: right;\">\n      <th></th>\n      <th>work_year</th>\n      <th>job_title</th>\n      <th>job_category</th>\n      <th>salary_currency</th>\n      <th>salary</th>\n      <th>salary_in_usd</th>\n      <th>employee_residence</th>\n      <th>experience_level</th>\n      <th>employment_type</th>\n      <th>work_setting</th>\n      <th>company_location</th>\n      <th>company_size</th>\n    </tr>\n  </thead>\n  <tbody>\n    <tr>\n      <th>0</th>\n      <td>2023</td>\n      <td>Data DevOps Engineer</td>\n      <td>Data Engineering</td>\n      <td>EUR</td>\n      <td>88000</td>\n      <td>95012</td>\n      <td>Germany</td>\n      <td>Mid-level</td>\n      <td>Full-time</td>\n      <td>Hybrid</td>\n      <td>Germany</td>\n      <td>L</td>\n    </tr>\n    <tr>\n      <th>1</th>\n      <td>2023</td>\n      <td>Data Architect</td>\n      <td>Data Architecture and Modeling</td>\n      <td>USD</td>\n      <td>186000</td>\n      <td>186000</td>\n      <td>United States</td>\n      <td>Senior</td>\n      <td>Full-time</td>\n      <td>In-person</td>\n      <td>United States</td>\n      <td>M</td>\n    </tr>\n    <tr>\n      <th>2</th>\n      <td>2023</td>\n      <td>Data Architect</td>\n      <td>Data Architecture and Modeling</td>\n      <td>USD</td>\n      <td>81800</td>\n      <td>81800</td>\n      <td>United States</td>\n      <td>Senior</td>\n      <td>Full-time</td>\n      <td>In-person</td>\n      <td>United States</td>\n      <td>M</td>\n    </tr>\n    <tr>\n      <th>3</th>\n      <td>2023</td>\n      <td>Data Scientist</td>\n      <td>Data Science and Research</td>\n      <td>USD</td>\n      <td>212000</td>\n      <td>212000</td>\n      <td>United States</td>\n      <td>Senior</td>\n      <td>Full-time</td>\n      <td>In-person</td>\n      <td>United States</td>\n      <td>M</td>\n    </tr>\n    <tr>\n      <th>4</th>\n      <td>2023</td>\n      <td>Data Scientist</td>\n      <td>Data Science and Research</td>\n      <td>USD</td>\n      <td>93300</td>\n      <td>93300</td>\n      <td>United States</td>\n      <td>Senior</td>\n      <td>Full-time</td>\n      <td>In-person</td>\n      <td>United States</td>\n      <td>M</td>\n    </tr>\n    <tr>\n      <th>...</th>\n      <td>...</td>\n      <td>...</td>\n      <td>...</td>\n      <td>...</td>\n      <td>...</td>\n      <td>...</td>\n      <td>...</td>\n      <td>...</td>\n      <td>...</td>\n      <td>...</td>\n      <td>...</td>\n      <td>...</td>\n    </tr>\n    <tr>\n      <th>9350</th>\n      <td>2021</td>\n      <td>Data Specialist</td>\n      <td>Data Management and Strategy</td>\n      <td>USD</td>\n      <td>165000</td>\n      <td>165000</td>\n      <td>United States</td>\n      <td>Senior</td>\n      <td>Full-time</td>\n      <td>Remote</td>\n      <td>United States</td>\n      <td>L</td>\n    </tr>\n    <tr>\n      <th>9351</th>\n      <td>2020</td>\n      <td>Data Scientist</td>\n      <td>Data Science and Research</td>\n      <td>USD</td>\n      <td>412000</td>\n      <td>412000</td>\n      <td>United States</td>\n      <td>Senior</td>\n      <td>Full-time</td>\n      <td>Remote</td>\n      <td>United States</td>\n      <td>L</td>\n    </tr>\n    <tr>\n      <th>9352</th>\n      <td>2021</td>\n      <td>Principal Data Scientist</td>\n      <td>Data Science and Research</td>\n      <td>USD</td>\n      <td>151000</td>\n      <td>151000</td>\n      <td>United States</td>\n      <td>Mid-level</td>\n      <td>Full-time</td>\n      <td>Remote</td>\n      <td>United States</td>\n      <td>L</td>\n    </tr>\n    <tr>\n      <th>9353</th>\n      <td>2020</td>\n      <td>Data Scientist</td>\n      <td>Data Science and Research</td>\n      <td>USD</td>\n      <td>105000</td>\n      <td>105000</td>\n      <td>United States</td>\n      <td>Entry-level</td>\n      <td>Full-time</td>\n      <td>Remote</td>\n      <td>United States</td>\n      <td>S</td>\n    </tr>\n    <tr>\n      <th>9354</th>\n      <td>2020</td>\n      <td>Business Data Analyst</td>\n      <td>Data Analysis</td>\n      <td>USD</td>\n      <td>100000</td>\n      <td>100000</td>\n      <td>United States</td>\n      <td>Entry-level</td>\n      <td>Contract</td>\n      <td>Remote</td>\n      <td>United States</td>\n      <td>L</td>\n    </tr>\n  </tbody>\n</table>\n<p>5341 rows × 12 columns</p>\n</div>"
     },
     "execution_count": 6,
     "metadata": {},
     "output_type": "execute_result"
    }
   ],
   "source": [
    "Data"
   ]
  },
  {
   "cell_type": "code",
   "execution_count": 7,
   "id": "885c5d7a",
   "metadata": {
    "ExecuteTime": {
     "end_time": "2024-05-05T09:52:05.301664500Z",
     "start_time": "2024-05-05T09:52:05.133379600Z"
    }
   },
   "outputs": [
    {
     "data": {
      "text/plain": "      work_year                 job_title                    job_category  \\\n0          2023      Data DevOps Engineer                Data Engineering   \n1          2023            Data Architect  Data Architecture and Modeling   \n2          2023            Data Architect  Data Architecture and Modeling   \n3          2023            Data Scientist       Data Science and Research   \n4          2023            Data Scientist       Data Science and Research   \n...         ...                       ...                             ...   \n9350       2021           Data Specialist    Data Management and Strategy   \n9351       2020            Data Scientist       Data Science and Research   \n9352       2021  Principal Data Scientist       Data Science and Research   \n9353       2020            Data Scientist       Data Science and Research   \n9354       2020     Business Data Analyst                   Data Analysis   \n\n     salary_currency  salary employee_residence experience_level  \\\n0                EUR   88000            Germany        Mid-level   \n1                USD  186000      United States           Senior   \n2                USD   81800      United States           Senior   \n3                USD  212000      United States           Senior   \n4                USD   93300      United States           Senior   \n...              ...     ...                ...              ...   \n9350             USD  165000      United States           Senior   \n9351             USD  412000      United States           Senior   \n9352             USD  151000      United States        Mid-level   \n9353             USD  105000      United States      Entry-level   \n9354             USD  100000      United States      Entry-level   \n\n     employment_type work_setting company_location company_size  \n0          Full-time       Hybrid          Germany            L  \n1          Full-time    In-person    United States            M  \n2          Full-time    In-person    United States            M  \n3          Full-time    In-person    United States            M  \n4          Full-time    In-person    United States            M  \n...              ...          ...              ...          ...  \n9350       Full-time       Remote    United States            L  \n9351       Full-time       Remote    United States            L  \n9352       Full-time       Remote    United States            L  \n9353       Full-time       Remote    United States            S  \n9354        Contract       Remote    United States            L  \n\n[5341 rows x 11 columns]",
      "text/html": "<div>\n<style scoped>\n    .dataframe tbody tr th:only-of-type {\n        vertical-align: middle;\n    }\n\n    .dataframe tbody tr th {\n        vertical-align: top;\n    }\n\n    .dataframe thead th {\n        text-align: right;\n    }\n</style>\n<table border=\"1\" class=\"dataframe\">\n  <thead>\n    <tr style=\"text-align: right;\">\n      <th></th>\n      <th>work_year</th>\n      <th>job_title</th>\n      <th>job_category</th>\n      <th>salary_currency</th>\n      <th>salary</th>\n      <th>employee_residence</th>\n      <th>experience_level</th>\n      <th>employment_type</th>\n      <th>work_setting</th>\n      <th>company_location</th>\n      <th>company_size</th>\n    </tr>\n  </thead>\n  <tbody>\n    <tr>\n      <th>0</th>\n      <td>2023</td>\n      <td>Data DevOps Engineer</td>\n      <td>Data Engineering</td>\n      <td>EUR</td>\n      <td>88000</td>\n      <td>Germany</td>\n      <td>Mid-level</td>\n      <td>Full-time</td>\n      <td>Hybrid</td>\n      <td>Germany</td>\n      <td>L</td>\n    </tr>\n    <tr>\n      <th>1</th>\n      <td>2023</td>\n      <td>Data Architect</td>\n      <td>Data Architecture and Modeling</td>\n      <td>USD</td>\n      <td>186000</td>\n      <td>United States</td>\n      <td>Senior</td>\n      <td>Full-time</td>\n      <td>In-person</td>\n      <td>United States</td>\n      <td>M</td>\n    </tr>\n    <tr>\n      <th>2</th>\n      <td>2023</td>\n      <td>Data Architect</td>\n      <td>Data Architecture and Modeling</td>\n      <td>USD</td>\n      <td>81800</td>\n      <td>United States</td>\n      <td>Senior</td>\n      <td>Full-time</td>\n      <td>In-person</td>\n      <td>United States</td>\n      <td>M</td>\n    </tr>\n    <tr>\n      <th>3</th>\n      <td>2023</td>\n      <td>Data Scientist</td>\n      <td>Data Science and Research</td>\n      <td>USD</td>\n      <td>212000</td>\n      <td>United States</td>\n      <td>Senior</td>\n      <td>Full-time</td>\n      <td>In-person</td>\n      <td>United States</td>\n      <td>M</td>\n    </tr>\n    <tr>\n      <th>4</th>\n      <td>2023</td>\n      <td>Data Scientist</td>\n      <td>Data Science and Research</td>\n      <td>USD</td>\n      <td>93300</td>\n      <td>United States</td>\n      <td>Senior</td>\n      <td>Full-time</td>\n      <td>In-person</td>\n      <td>United States</td>\n      <td>M</td>\n    </tr>\n    <tr>\n      <th>...</th>\n      <td>...</td>\n      <td>...</td>\n      <td>...</td>\n      <td>...</td>\n      <td>...</td>\n      <td>...</td>\n      <td>...</td>\n      <td>...</td>\n      <td>...</td>\n      <td>...</td>\n      <td>...</td>\n    </tr>\n    <tr>\n      <th>9350</th>\n      <td>2021</td>\n      <td>Data Specialist</td>\n      <td>Data Management and Strategy</td>\n      <td>USD</td>\n      <td>165000</td>\n      <td>United States</td>\n      <td>Senior</td>\n      <td>Full-time</td>\n      <td>Remote</td>\n      <td>United States</td>\n      <td>L</td>\n    </tr>\n    <tr>\n      <th>9351</th>\n      <td>2020</td>\n      <td>Data Scientist</td>\n      <td>Data Science and Research</td>\n      <td>USD</td>\n      <td>412000</td>\n      <td>United States</td>\n      <td>Senior</td>\n      <td>Full-time</td>\n      <td>Remote</td>\n      <td>United States</td>\n      <td>L</td>\n    </tr>\n    <tr>\n      <th>9352</th>\n      <td>2021</td>\n      <td>Principal Data Scientist</td>\n      <td>Data Science and Research</td>\n      <td>USD</td>\n      <td>151000</td>\n      <td>United States</td>\n      <td>Mid-level</td>\n      <td>Full-time</td>\n      <td>Remote</td>\n      <td>United States</td>\n      <td>L</td>\n    </tr>\n    <tr>\n      <th>9353</th>\n      <td>2020</td>\n      <td>Data Scientist</td>\n      <td>Data Science and Research</td>\n      <td>USD</td>\n      <td>105000</td>\n      <td>United States</td>\n      <td>Entry-level</td>\n      <td>Full-time</td>\n      <td>Remote</td>\n      <td>United States</td>\n      <td>S</td>\n    </tr>\n    <tr>\n      <th>9354</th>\n      <td>2020</td>\n      <td>Business Data Analyst</td>\n      <td>Data Analysis</td>\n      <td>USD</td>\n      <td>100000</td>\n      <td>United States</td>\n      <td>Entry-level</td>\n      <td>Contract</td>\n      <td>Remote</td>\n      <td>United States</td>\n      <td>L</td>\n    </tr>\n  </tbody>\n</table>\n<p>5341 rows × 11 columns</p>\n</div>"
     },
     "execution_count": 7,
     "metadata": {},
     "output_type": "execute_result"
    }
   ],
   "source": [
    "X"
   ]
  },
  {
   "cell_type": "code",
   "execution_count": 8,
   "id": "3145900b",
   "metadata": {
    "ExecuteTime": {
     "end_time": "2024-05-05T09:52:05.593099200Z",
     "start_time": "2024-05-05T09:52:05.170668500Z"
    }
   },
   "outputs": [],
   "source": [
    "#Gérer les variables catégorique\n",
    "from sklearn.preprocessing import OneHotEncoder\n",
    "from sklearn.compose import ColumnTransformer \n",
    "ct=ColumnTransformer(\n",
    "    transformers=[\n",
    "        ('job_title', OneHotEncoder(), ['job_title']),\n",
    "        ('job_category', OneHotEncoder(), ['job_category']),\n",
    "        ('salary_currency', OneHotEncoder(), ['salary_currency']),\n",
    "        ('employee_residence', OneHotEncoder(), ['employee_residence']),\n",
    "        ('experience_level', OneHotEncoder(), ['experience_level']),\n",
    "        ('employment_type', OneHotEncoder(), ['employment_type']),\n",
    "        ('work_setting', OneHotEncoder(), ['work_setting']),\n",
    "        ('company_location', OneHotEncoder(), ['company_location']),\n",
    "        ('company_size', OneHotEncoder(), ['company_size'])\n",
    "    ],\n",
    "    remainder='passthrough'\n",
    ")\n",
    "X=ct.fit_transform(X)"
   ]
  },
  {
   "cell_type": "code",
   "execution_count": 9,
   "id": "1418bf11",
   "metadata": {
    "ExecuteTime": {
     "end_time": "2024-05-05T09:52:05.785953300Z",
     "start_time": "2024-05-05T09:52:05.277043800Z"
    }
   },
   "outputs": [],
   "source": [
    "import pandas as pd\n",
    "from sklearn.preprocessing import StandardScaler\n",
    "\n",
    "# Assuming 'data' is your DataFrame\n",
    "numerical_columns = Data.select_dtypes(exclude=['object']).columns\n",
    "object_columns = Data.select_dtypes(include=['object']).columns\n",
    "\n",
    "# Standardize numerical columns (if any)\n",
    "scaler = StandardScaler()\n",
    "Data[numerical_columns] = scaler.fit_transform(Data[numerical_columns])\n"
   ]
  },
  {
   "cell_type": "code",
   "execution_count": 10,
   "id": "9f78a303",
   "metadata": {
    "ExecuteTime": {
     "end_time": "2024-05-05T09:52:05.825942200Z",
     "start_time": "2024-05-05T09:52:05.307781100Z"
    }
   },
   "outputs": [
    {
     "name": "stdout",
     "output_type": "stream",
     "text": [
      "[[0.000e+00 0.000e+00 0.000e+00 ... 0.000e+00 2.023e+03 8.800e+04]\n",
      " [0.000e+00 0.000e+00 0.000e+00 ... 0.000e+00 2.023e+03 1.860e+05]\n",
      " [0.000e+00 0.000e+00 0.000e+00 ... 0.000e+00 2.023e+03 8.180e+04]\n",
      " ...\n",
      " [0.000e+00 0.000e+00 0.000e+00 ... 0.000e+00 2.021e+03 1.510e+05]\n",
      " [0.000e+00 0.000e+00 0.000e+00 ... 1.000e+00 2.020e+03 1.050e+05]\n",
      " [0.000e+00 0.000e+00 0.000e+00 ... 0.000e+00 2.020e+03 1.000e+05]]\n"
     ]
    }
   ],
   "source": [
    "print(X.toarray())"
   ]
  },
  {
   "cell_type": "code",
   "execution_count": 11,
   "id": "1fbb1d63",
   "metadata": {
    "ExecuteTime": {
     "end_time": "2024-05-05T09:52:05.854874400Z",
     "start_time": "2024-05-05T09:52:05.344381400Z"
    }
   },
   "outputs": [],
   "source": [
    "#Diviser le dataset(20% pour le test)\n",
    "\n",
    "X_train,X_test,Y_train,Y_test=train_test_split(X,Y,test_size=0.2, random_state=42)"
   ]
  },
  {
   "cell_type": "code",
   "execution_count": 12,
   "id": "8937b3bb",
   "metadata": {
    "ExecuteTime": {
     "end_time": "2024-05-05T09:52:05.857920800Z",
     "start_time": "2024-05-05T09:52:05.366876200Z"
    }
   },
   "outputs": [
    {
     "name": "stdout",
     "output_type": "stream",
     "text": [
      "[[     0.      0.      0. ...      0.   2023. 109000.]\n",
      " [     0.      0.      0. ...      0.   2023. 134000.]\n",
      " [     0.      0.      0. ...      0.   2023. 220000.]\n",
      " ...\n",
      " [     0.      0.      0. ...      0.   2020.  88000.]\n",
      " [     0.      0.      0. ...      0.   2021. 110000.]\n",
      " [     0.      0.      0. ...      0.   2023. 112000.]]\n"
     ]
    }
   ],
   "source": [
    "print(X_train.toarray())"
   ]
  },
  {
   "cell_type": "code",
   "execution_count": 13,
   "id": "b2d82f01",
   "metadata": {
    "ExecuteTime": {
     "end_time": "2024-05-05T09:52:05.881103Z",
     "start_time": "2024-05-05T09:52:05.383367Z"
    }
   },
   "outputs": [
    {
     "name": "stdout",
     "output_type": "stream",
     "text": [
      "[[     0.      0.      0. ...      0.   2023. 220000.]\n",
      " [     0.      0.      0. ...      0.   2023. 139000.]\n",
      " [     0.      0.      0. ...      0.   2021. 165000.]\n",
      " ...\n",
      " [     0.      0.      0. ...      0.   2023.  87000.]\n",
      " [     0.      0.      0. ...      0.   2023. 130000.]\n",
      " [     0.      0.      0. ...      0.   2023. 210000.]]\n"
     ]
    }
   ],
   "source": [
    "print(X_test.toarray())"
   ]
  },
  {
   "cell_type": "code",
   "execution_count": 14,
   "id": "aea6ef96",
   "metadata": {
    "ExecuteTime": {
     "end_time": "2024-05-05T09:52:05.889044500Z",
     "start_time": "2024-05-05T09:52:05.400160700Z"
    }
   },
   "outputs": [
    {
     "data": {
      "text/plain": "LinearRegression()",
      "text/html": "<style>#sk-container-id-1 {\n  /* Definition of color scheme common for light and dark mode */\n  --sklearn-color-text: black;\n  --sklearn-color-line: gray;\n  /* Definition of color scheme for unfitted estimators */\n  --sklearn-color-unfitted-level-0: #fff5e6;\n  --sklearn-color-unfitted-level-1: #f6e4d2;\n  --sklearn-color-unfitted-level-2: #ffe0b3;\n  --sklearn-color-unfitted-level-3: chocolate;\n  /* Definition of color scheme for fitted estimators */\n  --sklearn-color-fitted-level-0: #f0f8ff;\n  --sklearn-color-fitted-level-1: #d4ebff;\n  --sklearn-color-fitted-level-2: #b3dbfd;\n  --sklearn-color-fitted-level-3: cornflowerblue;\n\n  /* Specific color for light theme */\n  --sklearn-color-text-on-default-background: var(--sg-text-color, var(--theme-code-foreground, var(--jp-content-font-color1, black)));\n  --sklearn-color-background: var(--sg-background-color, var(--theme-background, var(--jp-layout-color0, white)));\n  --sklearn-color-border-box: var(--sg-text-color, var(--theme-code-foreground, var(--jp-content-font-color1, black)));\n  --sklearn-color-icon: #696969;\n\n  @media (prefers-color-scheme: dark) {\n    /* Redefinition of color scheme for dark theme */\n    --sklearn-color-text-on-default-background: var(--sg-text-color, var(--theme-code-foreground, var(--jp-content-font-color1, white)));\n    --sklearn-color-background: var(--sg-background-color, var(--theme-background, var(--jp-layout-color0, #111)));\n    --sklearn-color-border-box: var(--sg-text-color, var(--theme-code-foreground, var(--jp-content-font-color1, white)));\n    --sklearn-color-icon: #878787;\n  }\n}\n\n#sk-container-id-1 {\n  color: var(--sklearn-color-text);\n}\n\n#sk-container-id-1 pre {\n  padding: 0;\n}\n\n#sk-container-id-1 input.sk-hidden--visually {\n  border: 0;\n  clip: rect(1px 1px 1px 1px);\n  clip: rect(1px, 1px, 1px, 1px);\n  height: 1px;\n  margin: -1px;\n  overflow: hidden;\n  padding: 0;\n  position: absolute;\n  width: 1px;\n}\n\n#sk-container-id-1 div.sk-dashed-wrapped {\n  border: 1px dashed var(--sklearn-color-line);\n  margin: 0 0.4em 0.5em 0.4em;\n  box-sizing: border-box;\n  padding-bottom: 0.4em;\n  background-color: var(--sklearn-color-background);\n}\n\n#sk-container-id-1 div.sk-container {\n  /* jupyter's `normalize.less` sets `[hidden] { display: none; }`\n     but bootstrap.min.css set `[hidden] { display: none !important; }`\n     so we also need the `!important` here to be able to override the\n     default hidden behavior on the sphinx rendered scikit-learn.org.\n     See: https://github.com/scikit-learn/scikit-learn/issues/21755 */\n  display: inline-block !important;\n  position: relative;\n}\n\n#sk-container-id-1 div.sk-text-repr-fallback {\n  display: none;\n}\n\ndiv.sk-parallel-item,\ndiv.sk-serial,\ndiv.sk-item {\n  /* draw centered vertical line to link estimators */\n  background-image: linear-gradient(var(--sklearn-color-text-on-default-background), var(--sklearn-color-text-on-default-background));\n  background-size: 2px 100%;\n  background-repeat: no-repeat;\n  background-position: center center;\n}\n\n/* Parallel-specific style estimator block */\n\n#sk-container-id-1 div.sk-parallel-item::after {\n  content: \"\";\n  width: 100%;\n  border-bottom: 2px solid var(--sklearn-color-text-on-default-background);\n  flex-grow: 1;\n}\n\n#sk-container-id-1 div.sk-parallel {\n  display: flex;\n  align-items: stretch;\n  justify-content: center;\n  background-color: var(--sklearn-color-background);\n  position: relative;\n}\n\n#sk-container-id-1 div.sk-parallel-item {\n  display: flex;\n  flex-direction: column;\n}\n\n#sk-container-id-1 div.sk-parallel-item:first-child::after {\n  align-self: flex-end;\n  width: 50%;\n}\n\n#sk-container-id-1 div.sk-parallel-item:last-child::after {\n  align-self: flex-start;\n  width: 50%;\n}\n\n#sk-container-id-1 div.sk-parallel-item:only-child::after {\n  width: 0;\n}\n\n/* Serial-specific style estimator block */\n\n#sk-container-id-1 div.sk-serial {\n  display: flex;\n  flex-direction: column;\n  align-items: center;\n  background-color: var(--sklearn-color-background);\n  padding-right: 1em;\n  padding-left: 1em;\n}\n\n\n/* Toggleable style: style used for estimator/Pipeline/ColumnTransformer box that is\nclickable and can be expanded/collapsed.\n- Pipeline and ColumnTransformer use this feature and define the default style\n- Estimators will overwrite some part of the style using the `sk-estimator` class\n*/\n\n/* Pipeline and ColumnTransformer style (default) */\n\n#sk-container-id-1 div.sk-toggleable {\n  /* Default theme specific background. It is overwritten whether we have a\n  specific estimator or a Pipeline/ColumnTransformer */\n  background-color: var(--sklearn-color-background);\n}\n\n/* Toggleable label */\n#sk-container-id-1 label.sk-toggleable__label {\n  cursor: pointer;\n  display: block;\n  width: 100%;\n  margin-bottom: 0;\n  padding: 0.5em;\n  box-sizing: border-box;\n  text-align: center;\n}\n\n#sk-container-id-1 label.sk-toggleable__label-arrow:before {\n  /* Arrow on the left of the label */\n  content: \"▸\";\n  float: left;\n  margin-right: 0.25em;\n  color: var(--sklearn-color-icon);\n}\n\n#sk-container-id-1 label.sk-toggleable__label-arrow:hover:before {\n  color: var(--sklearn-color-text);\n}\n\n/* Toggleable content - dropdown */\n\n#sk-container-id-1 div.sk-toggleable__content {\n  max-height: 0;\n  max-width: 0;\n  overflow: hidden;\n  text-align: left;\n  /* unfitted */\n  background-color: var(--sklearn-color-unfitted-level-0);\n}\n\n#sk-container-id-1 div.sk-toggleable__content.fitted {\n  /* fitted */\n  background-color: var(--sklearn-color-fitted-level-0);\n}\n\n#sk-container-id-1 div.sk-toggleable__content pre {\n  margin: 0.2em;\n  border-radius: 0.25em;\n  color: var(--sklearn-color-text);\n  /* unfitted */\n  background-color: var(--sklearn-color-unfitted-level-0);\n}\n\n#sk-container-id-1 div.sk-toggleable__content.fitted pre {\n  /* unfitted */\n  background-color: var(--sklearn-color-fitted-level-0);\n}\n\n#sk-container-id-1 input.sk-toggleable__control:checked~div.sk-toggleable__content {\n  /* Expand drop-down */\n  max-height: 200px;\n  max-width: 100%;\n  overflow: auto;\n}\n\n#sk-container-id-1 input.sk-toggleable__control:checked~label.sk-toggleable__label-arrow:before {\n  content: \"▾\";\n}\n\n/* Pipeline/ColumnTransformer-specific style */\n\n#sk-container-id-1 div.sk-label input.sk-toggleable__control:checked~label.sk-toggleable__label {\n  color: var(--sklearn-color-text);\n  background-color: var(--sklearn-color-unfitted-level-2);\n}\n\n#sk-container-id-1 div.sk-label.fitted input.sk-toggleable__control:checked~label.sk-toggleable__label {\n  background-color: var(--sklearn-color-fitted-level-2);\n}\n\n/* Estimator-specific style */\n\n/* Colorize estimator box */\n#sk-container-id-1 div.sk-estimator input.sk-toggleable__control:checked~label.sk-toggleable__label {\n  /* unfitted */\n  background-color: var(--sklearn-color-unfitted-level-2);\n}\n\n#sk-container-id-1 div.sk-estimator.fitted input.sk-toggleable__control:checked~label.sk-toggleable__label {\n  /* fitted */\n  background-color: var(--sklearn-color-fitted-level-2);\n}\n\n#sk-container-id-1 div.sk-label label.sk-toggleable__label,\n#sk-container-id-1 div.sk-label label {\n  /* The background is the default theme color */\n  color: var(--sklearn-color-text-on-default-background);\n}\n\n/* On hover, darken the color of the background */\n#sk-container-id-1 div.sk-label:hover label.sk-toggleable__label {\n  color: var(--sklearn-color-text);\n  background-color: var(--sklearn-color-unfitted-level-2);\n}\n\n/* Label box, darken color on hover, fitted */\n#sk-container-id-1 div.sk-label.fitted:hover label.sk-toggleable__label.fitted {\n  color: var(--sklearn-color-text);\n  background-color: var(--sklearn-color-fitted-level-2);\n}\n\n/* Estimator label */\n\n#sk-container-id-1 div.sk-label label {\n  font-family: monospace;\n  font-weight: bold;\n  display: inline-block;\n  line-height: 1.2em;\n}\n\n#sk-container-id-1 div.sk-label-container {\n  text-align: center;\n}\n\n/* Estimator-specific */\n#sk-container-id-1 div.sk-estimator {\n  font-family: monospace;\n  border: 1px dotted var(--sklearn-color-border-box);\n  border-radius: 0.25em;\n  box-sizing: border-box;\n  margin-bottom: 0.5em;\n  /* unfitted */\n  background-color: var(--sklearn-color-unfitted-level-0);\n}\n\n#sk-container-id-1 div.sk-estimator.fitted {\n  /* fitted */\n  background-color: var(--sklearn-color-fitted-level-0);\n}\n\n/* on hover */\n#sk-container-id-1 div.sk-estimator:hover {\n  /* unfitted */\n  background-color: var(--sklearn-color-unfitted-level-2);\n}\n\n#sk-container-id-1 div.sk-estimator.fitted:hover {\n  /* fitted */\n  background-color: var(--sklearn-color-fitted-level-2);\n}\n\n/* Specification for estimator info (e.g. \"i\" and \"?\") */\n\n/* Common style for \"i\" and \"?\" */\n\n.sk-estimator-doc-link,\na:link.sk-estimator-doc-link,\na:visited.sk-estimator-doc-link {\n  float: right;\n  font-size: smaller;\n  line-height: 1em;\n  font-family: monospace;\n  background-color: var(--sklearn-color-background);\n  border-radius: 1em;\n  height: 1em;\n  width: 1em;\n  text-decoration: none !important;\n  margin-left: 1ex;\n  /* unfitted */\n  border: var(--sklearn-color-unfitted-level-1) 1pt solid;\n  color: var(--sklearn-color-unfitted-level-1);\n}\n\n.sk-estimator-doc-link.fitted,\na:link.sk-estimator-doc-link.fitted,\na:visited.sk-estimator-doc-link.fitted {\n  /* fitted */\n  border: var(--sklearn-color-fitted-level-1) 1pt solid;\n  color: var(--sklearn-color-fitted-level-1);\n}\n\n/* On hover */\ndiv.sk-estimator:hover .sk-estimator-doc-link:hover,\n.sk-estimator-doc-link:hover,\ndiv.sk-label-container:hover .sk-estimator-doc-link:hover,\n.sk-estimator-doc-link:hover {\n  /* unfitted */\n  background-color: var(--sklearn-color-unfitted-level-3);\n  color: var(--sklearn-color-background);\n  text-decoration: none;\n}\n\ndiv.sk-estimator.fitted:hover .sk-estimator-doc-link.fitted:hover,\n.sk-estimator-doc-link.fitted:hover,\ndiv.sk-label-container:hover .sk-estimator-doc-link.fitted:hover,\n.sk-estimator-doc-link.fitted:hover {\n  /* fitted */\n  background-color: var(--sklearn-color-fitted-level-3);\n  color: var(--sklearn-color-background);\n  text-decoration: none;\n}\n\n/* Span, style for the box shown on hovering the info icon */\n.sk-estimator-doc-link span {\n  display: none;\n  z-index: 9999;\n  position: relative;\n  font-weight: normal;\n  right: .2ex;\n  padding: .5ex;\n  margin: .5ex;\n  width: min-content;\n  min-width: 20ex;\n  max-width: 50ex;\n  color: var(--sklearn-color-text);\n  box-shadow: 2pt 2pt 4pt #999;\n  /* unfitted */\n  background: var(--sklearn-color-unfitted-level-0);\n  border: .5pt solid var(--sklearn-color-unfitted-level-3);\n}\n\n.sk-estimator-doc-link.fitted span {\n  /* fitted */\n  background: var(--sklearn-color-fitted-level-0);\n  border: var(--sklearn-color-fitted-level-3);\n}\n\n.sk-estimator-doc-link:hover span {\n  display: block;\n}\n\n/* \"?\"-specific style due to the `<a>` HTML tag */\n\n#sk-container-id-1 a.estimator_doc_link {\n  float: right;\n  font-size: 1rem;\n  line-height: 1em;\n  font-family: monospace;\n  background-color: var(--sklearn-color-background);\n  border-radius: 1rem;\n  height: 1rem;\n  width: 1rem;\n  text-decoration: none;\n  /* unfitted */\n  color: var(--sklearn-color-unfitted-level-1);\n  border: var(--sklearn-color-unfitted-level-1) 1pt solid;\n}\n\n#sk-container-id-1 a.estimator_doc_link.fitted {\n  /* fitted */\n  border: var(--sklearn-color-fitted-level-1) 1pt solid;\n  color: var(--sklearn-color-fitted-level-1);\n}\n\n/* On hover */\n#sk-container-id-1 a.estimator_doc_link:hover {\n  /* unfitted */\n  background-color: var(--sklearn-color-unfitted-level-3);\n  color: var(--sklearn-color-background);\n  text-decoration: none;\n}\n\n#sk-container-id-1 a.estimator_doc_link.fitted:hover {\n  /* fitted */\n  background-color: var(--sklearn-color-fitted-level-3);\n}\n</style><div id=\"sk-container-id-1\" class=\"sk-top-container\"><div class=\"sk-text-repr-fallback\"><pre>LinearRegression()</pre><b>In a Jupyter environment, please rerun this cell to show the HTML representation or trust the notebook. <br />On GitHub, the HTML representation is unable to render, please try loading this page with nbviewer.org.</b></div><div class=\"sk-container\" hidden><div class=\"sk-item\"><div class=\"sk-estimator fitted sk-toggleable\"><input class=\"sk-toggleable__control sk-hidden--visually\" id=\"sk-estimator-id-1\" type=\"checkbox\" checked><label for=\"sk-estimator-id-1\" class=\"sk-toggleable__label fitted sk-toggleable__label-arrow fitted\">&nbsp;&nbsp;LinearRegression<a class=\"sk-estimator-doc-link fitted\" rel=\"noreferrer\" target=\"_blank\" href=\"https://scikit-learn.org/1.4/modules/generated/sklearn.linear_model.LinearRegression.html\">?<span>Documentation for LinearRegression</span></a><span class=\"sk-estimator-doc-link fitted\">i<span>Fitted</span></span></label><div class=\"sk-toggleable__content fitted\"><pre>LinearRegression()</pre></div> </div></div></div></div>"
     },
     "execution_count": 14,
     "metadata": {},
     "output_type": "execute_result"
    }
   ],
   "source": [
    "#construire le modéle\n",
    "regressor=LinearRegression()\n",
    "regressor.fit(X_train,Y_train)"
   ]
  },
  {
   "cell_type": "code",
   "execution_count": 15,
   "id": "cc7de8b9",
   "metadata": {
    "ExecuteTime": {
     "end_time": "2024-05-05T09:52:05.931351700Z",
     "start_time": "2024-05-05T09:52:05.553310500Z"
    }
   },
   "outputs": [],
   "source": [
    "#faire des prédictions \n",
    "Y_pred=regressor.predict(X_test)"
   ]
  },
  {
   "cell_type": "code",
   "execution_count": 16,
   "id": "855e5116",
   "metadata": {
    "ExecuteTime": {
     "end_time": "2024-05-05T09:52:05.981956900Z",
     "start_time": "2024-05-05T09:52:05.568778300Z"
    }
   },
   "outputs": [
    {
     "data": {
      "text/plain": "array([220293.24373449, 138396.46742027, 164884.85442965, ...,\n        90706.13920641, 133561.07190706, 208285.44980038])"
     },
     "execution_count": 16,
     "metadata": {},
     "output_type": "execute_result"
    }
   ],
   "source": [
    "Y_pred"
   ]
  },
  {
   "cell_type": "code",
   "execution_count": 17,
   "id": "335ef64f",
   "metadata": {
    "ExecuteTime": {
     "end_time": "2024-05-05T09:52:05.987931100Z",
     "start_time": "2024-05-05T09:52:05.585578Z"
    }
   },
   "outputs": [
    {
     "data": {
      "text/plain": "5878    220000\n2891    139000\n9350    165000\n7771     95000\n179     224800\n         ...  \n786     120000\n8570    200000\n7309     87000\n1883    130000\n125     210000\nName: salary_in_usd, Length: 1069, dtype: int64"
     },
     "execution_count": 17,
     "metadata": {},
     "output_type": "execute_result"
    }
   ],
   "source": [
    "Y_test"
   ]
  },
  {
   "cell_type": "code",
   "execution_count": 18,
   "id": "86286e66",
   "metadata": {
    "ExecuteTime": {
     "end_time": "2024-05-05T09:52:05.995253800Z",
     "start_time": "2024-05-05T09:52:05.602196Z"
    }
   },
   "outputs": [],
   "source": [
    "#Calcul des métrique d'évaluation\n",
    "from sklearn.metrics import mean_squared_error, mean_absolute_error, r2_score\n",
    "# RMSE (Root Mean Squared Error)\n",
    "rmse = np.sqrt(mean_squared_error(Y_test, Y_pred))"
   ]
  },
  {
   "cell_type": "code",
   "execution_count": 19,
   "id": "7ade62d2",
   "metadata": {
    "ExecuteTime": {
     "end_time": "2024-05-05T09:52:06.225018800Z",
     "start_time": "2024-05-05T09:52:05.616200Z"
    }
   },
   "outputs": [],
   "source": [
    "# MAE (Mean Absolute Error)\n",
    "mae = mean_absolute_error(Y_test, Y_pred)"
   ]
  },
  {
   "cell_type": "code",
   "execution_count": 20,
   "id": "7c649aff",
   "metadata": {
    "ExecuteTime": {
     "end_time": "2024-05-05T09:52:06.228133400Z",
     "start_time": "2024-05-05T09:52:05.631018800Z"
    }
   },
   "outputs": [],
   "source": [
    "# R² (Coefficient de détermination)\n",
    "r2 = r2_score(Y_test, Y_pred)"
   ]
  },
  {
   "cell_type": "code",
   "execution_count": 21,
   "id": "d6709310",
   "metadata": {
    "ExecuteTime": {
     "end_time": "2024-05-05T09:52:06.283115600Z",
     "start_time": "2024-05-05T09:52:05.723312Z"
    }
   },
   "outputs": [
    {
     "name": "stdout",
     "output_type": "stream",
     "text": [
      "RMSE: 12749.296876407197\n"
     ]
    }
   ],
   "source": [
    "print(\"RMSE:\", rmse)"
   ]
  },
  {
   "cell_type": "code",
   "execution_count": 22,
   "id": "35138d78",
   "metadata": {
    "ExecuteTime": {
     "end_time": "2024-05-05T09:52:06.287610400Z",
     "start_time": "2024-05-05T09:52:05.742622600Z"
    }
   },
   "outputs": [
    {
     "name": "stdout",
     "output_type": "stream",
     "text": [
      "MAE: 3042.350395204639\n"
     ]
    }
   ],
   "source": [
    "print(\"MAE:\", mae)"
   ]
  },
  {
   "cell_type": "code",
   "execution_count": 23,
   "id": "dcaa273e",
   "metadata": {
    "ExecuteTime": {
     "end_time": "2024-05-05T09:52:06.316049200Z",
     "start_time": "2024-05-05T09:52:05.756938900Z"
    }
   },
   "outputs": [
    {
     "name": "stdout",
     "output_type": "stream",
     "text": [
      "R²: 0.9615277124704762\n"
     ]
    }
   ],
   "source": [
    "print(\"R²:\", r2)"
   ]
  },
  {
   "cell_type": "code",
   "execution_count": 24,
   "id": "e5616283",
   "metadata": {
    "ExecuteTime": {
     "end_time": "2024-05-05T09:52:23.513163300Z",
     "start_time": "2024-05-05T09:52:23.432188700Z"
    }
   },
   "outputs": [
    {
     "data": {
      "text/plain": "['modele_regression.pkl']"
     },
     "execution_count": 24,
     "metadata": {},
     "output_type": "execute_result"
    }
   ],
   "source": [
    "from joblib import dump\n",
    "\n",
    "# Sauvegarder le modèle\n",
    "dump(regressor, 'modele_regression.pkl')"
   ]
  },
  {
   "cell_type": "code",
   "outputs": [],
   "source": [],
   "metadata": {
    "collapsed": false,
    "ExecuteTime": {
     "end_time": "2024-05-05T09:54:59.556790600Z",
     "start_time": "2024-05-05T09:54:59.511120100Z"
    }
   },
   "id": "d97001efd614f3ac",
   "execution_count": 25
  },
  {
   "cell_type": "code",
   "outputs": [],
   "source": [],
   "metadata": {
    "collapsed": false
   },
   "id": "c21ce75d013a33d1"
  }
 ],
 "metadata": {
  "kernelspec": {
   "display_name": "Python 3 (ipykernel)",
   "language": "python",
   "name": "python3"
  },
  "language_info": {
   "codemirror_mode": {
    "name": "ipython",
    "version": 3
   },
   "file_extension": ".py",
   "mimetype": "text/x-python",
   "name": "python",
   "nbconvert_exporter": "python",
   "pygments_lexer": "ipython3",
   "version": "3.11.5"
  }
 },
 "nbformat": 4,
 "nbformat_minor": 5
}
